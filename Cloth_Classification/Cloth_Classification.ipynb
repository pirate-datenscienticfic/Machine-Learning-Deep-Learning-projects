{
 "cells": [
  {
<<<<<<< HEAD
   "cell_type": "code",
   "execution_count": null,
   "id": "1fd78ae3",
=======
   "cell_type": "markdown",
   "id": "5f32d952",
   "metadata": {},
   "source": [
    "# Simple Image classification: Classify images of clothing\n",
    "\n",
    " [**ReSources**]('https://www.tensorflow.org/tutorials/keras/classification')\n",
    " \n",
    " ###### Intro:\n",
    "     We will trains a neural network model to classify images of clothing, like sneakers and shirts. We uses high level API to train model in Tensorflow."
   ]
  },
  {
   "cell_type": "markdown",
   "id": "3270d617",
   "metadata": {},
   "source": [
    "### Import libraries:"
   ]
  },
  {
   "cell_type": "code",
   "execution_count": 1,
   "id": "51601b5c",
   "metadata": {},
   "outputs": [
    {
     "name": "stdout",
     "output_type": "stream",
     "text": [
      "2.7.0\n"
     ]
    }
   ],
   "source": [
    "# Basic libraries for data manipulation, visualization,etc.\n",
    "import numpy as np\n",
    "import seaborn as sns\n",
    "import matplotlib.pyplot as plt\n",
    "\n",
    "# ML and DL library:\n",
    "import tensorflow as tf\n",
    "print(tf.__version__)"
   ]
  },
  {
   "cell_type": "markdown",
   "id": "64d38b17",
   "metadata": {},
   "source": [
    "### Import datasets and loads datasets\n",
    "\n",
    "We uses the **`Fashion MNIST`** dataset which contains 70k grayscale images of various cloths with resoluation having (28x28)pixels. MINST Fashion uses for variety, with more complex ways. Here, 60k images is used to train models and 10k is used to test predict. We can access the Fashion MNIST directly from `TensorFlow`."
   ]
  },
  {
   "cell_type": "code",
   "execution_count": 2,
   "id": "aa18acff",
   "metadata": {},
   "outputs": [],
   "source": [
    "fashion_mnist = tf.keras.datasets.fashion_mnist\n",
    "\n",
    "(train_images, train_labels), (test_images, test_labels) = fashion_mnist.load_data()\n"
   ]
  },
  {
   "cell_type": "markdown",
   "id": "178b7c66",
   "metadata": {},
   "source": [
    "Loading the dataset returns four NumPy arrays:\n",
    "\n",
    "   * The `train_images` and `train_labels` arrays are the training set—the data the model uses to learn.\n",
    "\n",
    "   * The model is tested against the test set, the `test_images`, and `test_labels` arrays.\n",
    "   \n",
    "\n",
    "An images of 28x28 pixels can be considered as a NumPy arrays of 28x28 with values ranging from 0 to 255. The labels are an array of integers, ranging from 0 to 9. These correspond to the class of clothing the images.\n",
    "\n",
    "    0: 'T-shirt/top', 1: 'Trouser', 2: 'Pullover', 3: 'Dress', 4: 'Coat', 5: 'Sandal', 6: 'Shirt', 7: 'Sneaker', 8: 'Bag', 9: 'Ankle boot'"
   ]
  },
  {
   "cell_type": "code",
   "execution_count": 3,
   "id": "c2dc6fd8",
   "metadata": {},
   "outputs": [],
   "source": [
    "class_names = ['T-shirt/top', 'Trouser', 'Pullover', 'Dress', 'Coat', 'Sandal', 'Shirt', 'Sneaker', 'Bag', 'Ankle boot']"
   ]
  },
  {
   "cell_type": "markdown",
   "id": "4830cca5",
   "metadata": {},
   "source": [
    "### Exploratory Data Analysis"
   ]
  },
  {
   "cell_type": "code",
   "execution_count": 4,
   "id": "43f22290",
   "metadata": {},
   "outputs": [
    {
     "data": {
      "text/plain": [
       "(60000, 28, 28)"
      ]
     },
     "execution_count": 4,
     "metadata": {},
     "output_type": "execute_result"
    }
   ],
   "source": [
    "## Features of all train data\n",
    "train_images.shape"
   ]
  },
  {
   "cell_type": "code",
   "execution_count": 5,
   "id": "e406b5a8",
   "metadata": {},
   "outputs": [
    {
     "data": {
      "text/plain": [
       "60000"
      ]
     },
     "execution_count": 5,
     "metadata": {},
     "output_type": "execute_result"
    }
   ],
   "source": [
    "## targets of all train datasets\n",
    "len(train_labels)"
   ]
  },
  {
   "cell_type": "code",
   "execution_count": 6,
   "id": "555ff4b6",
   "metadata": {},
   "outputs": [
    {
     "data": {
      "text/plain": [
       "array([9, 0, 0, ..., 3, 0, 5], dtype=uint8)"
      ]
     },
     "metadata": {},
     "output_type": "display_data"
    }
   ],
   "source": [
    "display(train_labels)"
   ]
  },
  {
   "cell_type": "code",
   "execution_count": 7,
   "id": "10abf5fa",
   "metadata": {},
   "outputs": [
    {
     "data": {
      "text/plain": [
       "{0, 1, 2, 3, 4, 5, 6, 7, 8, 9}"
      ]
     },
     "execution_count": 7,
     "metadata": {},
     "output_type": "execute_result"
    }
   ],
   "source": [
    "set(train_labels)"
   ]
  },
  {
   "cell_type": "markdown",
   "id": "d111ff5e",
   "metadata": {},
   "source": [
    "**Observation** - Train data have 60K instances and its targets have 10 unique different values(0-9). Each instance of train represents an image where digits from 0 to 9 is written."
   ]
  },
  {
   "cell_type": "code",
   "execution_count": 8,
   "id": "3439927b",
   "metadata": {},
   "outputs": [
    {
     "data": {
      "text/plain": [
       "(10000,)"
      ]
     },
     "execution_count": 8,
     "metadata": {},
     "output_type": "execute_result"
    }
   ],
   "source": [
    "test_labels.shape"
   ]
  },
  {
   "cell_type": "code",
   "execution_count": 9,
   "id": "e296bf50",
   "metadata": {},
   "outputs": [
    {
     "data": {
      "text/plain": [
       "(10000, 28, 28)"
      ]
     },
     "execution_count": 9,
     "metadata": {},
     "output_type": "execute_result"
    }
   ],
   "source": [
    "test_images.shape"
   ]
  },
  {
   "cell_type": "markdown",
   "id": "be0bd496",
   "metadata": {},
   "source": [
    "Test datasets contains 10K datasets."
   ]
  },
  {
   "cell_type": "code",
   "execution_count": 10,
   "id": "3c767439",
   "metadata": {},
   "outputs": [
    {
     "data": {
      "text/plain": [
       "array([[[0, 0, 0, ..., 0, 0, 0],\n",
       "        [0, 0, 0, ..., 0, 0, 0],\n",
       "        [0, 0, 0, ..., 0, 0, 0],\n",
       "        ...,\n",
       "        [0, 0, 0, ..., 0, 0, 0],\n",
       "        [0, 0, 0, ..., 0, 0, 0],\n",
       "        [0, 0, 0, ..., 0, 0, 0]],\n",
       "\n",
       "       [[0, 0, 0, ..., 0, 0, 0],\n",
       "        [0, 0, 0, ..., 0, 0, 0],\n",
       "        [0, 0, 0, ..., 0, 0, 0],\n",
       "        ...,\n",
       "        [0, 0, 0, ..., 0, 0, 0],\n",
       "        [0, 0, 0, ..., 0, 0, 0],\n",
       "        [0, 0, 0, ..., 0, 0, 0]],\n",
       "\n",
       "       [[0, 0, 0, ..., 0, 0, 0],\n",
       "        [0, 0, 0, ..., 0, 0, 0],\n",
       "        [0, 0, 0, ..., 0, 0, 0],\n",
       "        ...,\n",
       "        [0, 0, 0, ..., 0, 0, 0],\n",
       "        [0, 0, 0, ..., 0, 0, 0],\n",
       "        [0, 0, 0, ..., 0, 0, 0]]], dtype=uint8)"
      ]
     },
     "execution_count": 10,
     "metadata": {},
     "output_type": "execute_result"
    }
   ],
   "source": [
    "## Viewing the first-few rows of datasets\n",
    "train_images[:3]"
   ]
  },
  {
   "cell_type": "markdown",
   "id": "e63c714d",
   "metadata": {},
   "source": [
    "### Preprocess the Data\n",
    "\n",
    "The data must be preprocessed before training the network. If we plot the first image training set, we will observe pixel range of 0 to 255"
   ]
  },
  {
   "cell_type": "code",
   "execution_count": 11,
   "id": "c15e8ce9",
   "metadata": {},
   "outputs": [
    {
     "data": {
      "image/png": "iVBORw0KGgoAAAANSUhEUgAAATEAAAD4CAYAAACE9dGgAAAAOXRFWHRTb2Z0d2FyZQBNYXRwbG90bGliIHZlcnNpb24zLjQuMywgaHR0cHM6Ly9tYXRwbG90bGliLm9yZy/MnkTPAAAACXBIWXMAAAsTAAALEwEAmpwYAAAc/ElEQVR4nO3df5BV9Znn8ffTTXcDTfNLEFFJUIOJmKyYJWp0KmPiTNRUatBJTGnNOKTGGtxd3YlT/qFxZytuTbmVykad1GR0B6MbUqVxmagr41jxBzExJqMRkcivNaAQQZAfooBAQ/e9z/5xT6+36T7POfS93fee5vOyTnH7PPd7z7dvdz+e873P+X7N3RERKaqWRndARKQWSmIiUmhKYiJSaEpiIlJoSmIiUmhjRvJg7dbhY+kcyUOKHFe6OcARP2y1vMaln+/0d/eUcj33ldcOP+Xul9VyvFrVlMTM7DLge0Ar8AN3/3b0/LF0cr5dUsshRSTwki+v+TV27ynx0lOn5npu28w3ptV8wBoN+XLSzFqBfwQuB+YC15jZ3Hp1TEQaxSl5OdeWxcxmmdlzZrbezNaa2TeS/beb2dtmtirZvlTV5ptmttHMXjezS7OOUcuZ2HnARnd/Mznww8ACYF0NrykiDeZAmboVwfcCN7v7SjPrAl4xs2eS2N3u/t3qJycnQlcDZwMnA8+a2Znunnp9W8vA/inAlqqvtyb7+jGzRWa2wsxW9HC4hsOJyEgp5/wvi7tvd/eVyeP9wHoGyRNVFgAPu/thd98EbKRywpSqliQ22ODhgPTt7ovdfb67z2+jo4bDichIcJweL+fagGl9JynJtijtdc1sNnAu8FKy60Yze83MHjCzKcm+XCdH1Wq5nNwKzKr6+lRgWw2vJyJNwIFS/svJ3e4+P+tJZjYBeAS4yd33mdm9wN8lh/s74E7gL8l5clStljOxl4E5ZnaambVTuY5dVsPriUiTKOO5tjzMrI1KAnvQ3R8FcPcd7l5y9zJwHx9eMh7zydGQk5i79wI3Ak9Ruc5d6u5rh/p6ItIcHCi559qymJkB9wPr3f2uqv0zq552JbAmebwMuNrMOszsNGAO8JvoGDXVibn7k8CTtbyGiDSf7CH73C4CrgVWm9mqZN9tVEqy5lHJmZuB6wHcfa2ZLaVS5dAL3BB9MgkjXLEvIs3P8WMZE4tfy/0FBh/nSj35cfc7gDvyHkNJTET6cYeeAs2VqiQmIkcxSoOePDUnJTER6ceBss7ERKTIdCYmIoVVKXZVEhORgnKgx4szX6qSmIj04xilAk36rCQmIgOUXZeTIlJQGhMTkYIzShoTE5GiqszsqiQmIgXlbhzx1kZ3IzclsdHOMsY2ckynEmk9YWoYf+/SM1NjEx96saZjZ31vNqYtNeY9R2o7dq2yfi6RGn9meZQ1JiYiRVUZ2NflpIgUlgb2RaTANLAvIoVXUrGriBSVY/R4cVJDcXoqIiNCA/siUmiO6XJSmoe1xkWL3tsbxlvmzQ3j66+fELc/lB5rOxCuTs+YQ/GaO21PrwjjNdWCZdWgZbyvWHwmU0vfbEzwZxv/OHPTwL6IFJY7KrEQkeKqDOzrtiMRKTAN7ItIYTmmSRFFpNh0JiYihVVZd1JJTEQKSyuASxMJa4rIrhPbcunkMP5nn/1lGP/VrtNTY7/vOCls6+PCMGP+6LNh/Mx73k6N9W5+K37xjDm7st63LK1TpqQHS6WwbWnfvvRgHaYaqyzZdpx8Omlmm4H9QAnodff59eiUiDSOux13l5Ofd/fddXgdEWkSKnYVkcKqzCd2/IyJOfC0mTnwT+6++OgnmNkiYBHAWMbXeDgRGX7Fmtm11p5e5O6fBi4HbjCzzx39BHdf7O7z3X1+Gx01Hk5EhlulxMJybVnMbJaZPWdm681srZl9I9k/1cyeMbMNyb9Tqtp808w2mtnrZnZp1jFqSmLuvi35dyfwGBBPSyAiTa/v3sk8Ww69wM3ufhZwAZWTnbnArcByd58DLE++JoldDZwNXAbcY2bhgYacxMys08y6+h4DXwTWDPX1RKR5lGnJtWVx9+3uvjJ5vB9YD5wCLACWJE9bAlyRPF4APOzuh919E7CRjJOjWsbEZgCPWWXepTHAQ+7+0xpeT4ZBubu7pvZHzv0gjH91Ujyn19iWntTYL1ri+cLe/tmsMF76d3Hffn9XV2qs/OqFYdsT1sS1WhNf3R7Gd3/ulDC+69+nF3TNyFiOc8qzb6TGbE/tn9VVpuLJPbA/zcyqfwkWDzY2DmBms4FzgZeAGe6+vXI8325mJyZPOwWofge2JvtSDfk7dvc3gXOG2l5Emtcx3AC+O099qJlNAB4BbnL3fZY+6eRggbCEVyUWItJPZRaL+n06aWZtVBLYg+7+aLJ7h5nNTM7CZgI7k/1bgepT8FOBbdHrF+dzVBEZEZXbjlpybVmscsp1P7De3e+qCi0DFiaPFwKPV+2/2sw6zOw0YA7wm+gYOhMTkaPU9UzsIuBaYLWZrUr23QZ8G1hqZtcBbwFXAbj7WjNbCqyj8snmDe4eDlAqiYnIAPWq2Hf3Fxh8nAvgkpQ2dwB35D2GkpiI9HOMn042nJLYaBAtL5YxpcwHX7sgjP/F3J+H8Td6pofxU9v3pMauOvmVsC1/Hse///ofhvEDb05KjbV0xu/LOxfEl1NvL4i/b++Jp+qZsjL9T69l4Y6w7b4j6dMblZbX566Y420WCxEZRTTHvogUmgO9OhMTkSLT5aSIFFfOGSqahZKYiPRzvE2KKCKjkM7ERKSw+iZFLAolsWYQ1XkNswtuCW9L4/MT1tX0+qcEExAc8Paw7fulzjD+rbn/GsZ3nZk+FU+Px7/6P9gQT9XzQVCDBtDaG/9ML/jLV1NjX5n6ctj2O498KjXW4gfCtnk4Rm9ZA/siUmAaExOR4nJdTopIgWlMTEQKT0lMRArLMUoa2BeRItPAvogUlmtgX45Zxpxfw2nDByeG8XcnTgjj7/RODuMntKYvq9bVcihsO7ttdxjfVUqvAwNobUtfEu5IxsKv/+3sfwnj3We1hfE2i5d8u3Bs+toXV637i7BtJ2+G8XpwJTERKS7dAC4iBaczMREpLHcolZXERKTA9OmkiBSWo8tJESk0DeyLSME1sOrnmCmJHeemd6TXcQGMtZ4w3m7x+orbeqakxjYc+njY9nf74hq2y2asDeM9QS1YazDPGWTXeZ3c9l4Y7/a4jix6Vy+aEdeBrQqj9VGky8nMG6TM7AEz22lma6r2TTWzZ8xsQ/Jv+m+qiBRK5dPJllxbM8jTix8Clx2171ZgubvPAZYnX4vIKOGeb2sGmUnM3Z8Hjl6LfgGwJHm8BLiivt0SkUZyt1xbMxjqmNgMd98O4O7bzSx18MLMFgGLAMYyfoiHE5GR4jRPgspj2C9q3X2xu8939/ltdAz34USkDjzn1gyGeia2w8xmJmdhM4Gd9eyUiDSQgxfotqOhnoktAxYmjxcCj9enOyLSDEbVmJiZ/Ri4GJhmZluBbwHfBpaa2XXAW8BVw9nJUS9j3Ulrjee+8t70Wq3WKXH1yx9OXh3Gd5UmhvH3S/E45+TWg6mx/b1jw7Z7DsWv/YmO7WF85cHZqbHp7XGdV9RvgM1HpoXxOR3vhPHv7LgkNTZr7NGfo/XXe8nnUmP+0r+FbfNqlk8e88hMYu5+TUoo/acgIoVVz3snzewB4MvATnf/ZLLvduCvgF3J025z9yeT2DeB64AS8Nfu/lTWMZqjWk1EmocDbvm2bD9kYJ0pwN3uPi/Z+hLYXOBq4OykzT1mFl+GoCQmIoOoV7FrSp1pmgXAw+5+2N03ARuB87IaKYmJyFEML+fbqIyVr6jaFuU8yI1m9lpyW2PfwO0pwJaq52xN9oWUxERkoPyFYrv76kCTbXGOV78XOAOYB2wH7kz2D3Z9mnm+p1ksRKQ/H95ZLNx9R99jM7sPeCL5ciswq+qppwLpy0IllMSaQcbggo2Jf0xRicWW684K235hfLw02a+747P56WP2h/FoOpyZHXvDtl0zusN4VnnH1DHp0wztL40L245vORzGs77vT7fHy839zbOfTo11ffLdsO3EtuACql65ZxhLLPoK5ZMvrwT6ZshZBjxkZncBJwNzgN9kvZ6SmIgMom4lFoPVmV5sZvOopMrNwPUA7r7WzJYC64Be4AZ3jyd2Q0lMRAaTvu7wMUmpM70/eP4dwB3HcgwlMRHpr69OrCCUxERkgFF125GIHIeUxESk0HQ5KSJFZjoTk2Nhbe1hvNwd10tFpq0+EsZ3l+KlxSa3xFPStGcsbXYkqBO7cOqmsO2ujFqulYdOC+NdrYdSY9Nb4jqvWW1xrdbq7llh/MkDHwvj13352dTYjxf/cdi2/ae/To2Zxz+vXNygQJMiKomJyEA6ExORQlMSE5FCUxITkcJSsauIFJ0+nRSRYlMSE5Ei05nYcAmWNrMxcb2TtWZMYtsSx8vdwfxS5czZQkLeE9dy1eJ7//T9ML6ld3IYf6cnjmctbVYKpnR58dCksO3Ylp4wPn3MvjC+rxzXmUX2l+Pl5KJ50iC777ecsCE19ujePwrbjgiNiYlIYX049XQhKImJyEBKYiJSZFanSRFHgpKYiAykMzERKSpzfTopIkWnTydFpNB0JjY0tayvmFVr5XHZTkMdWnBeGN9yRVyH9mfnpi/N905vV9j21YOzw/ikYE4ugM6M9Rm7Pb1+b9uRKakxyK61itaVBDgxqCMreVwX+HZP3LcsWfVzW3uDNTH/JJ7rbPKPhtSlY1Kky8mMClAwswfMbKeZranad7uZvW1mq5LtS8PbTREZMV75dDLP1gwykxjwQ+CyQfbf7e7zku3J+nZLRBrKc25NIDOJufvzwJ4R6IuINIvRlMQCN5rZa8nlZuoAgpktMrMVZraih3j8RESaQ1+ZRdbWDIaaxO4FzgDmAduBO9Oe6O6L3X2+u89vo2OIhxMRGdyQkpi773D3kruXgfuA+OM1ESmW0X45aWYzq768EliT9lwRKZiCfTqZWSdmZj8GLgammdlW4FvAxWY2j0ou3gxcX4/ORHVgtRoz86Qw3nPajDC+56zxqbGDJ8XVzfO+tD6Mf33G/wrju0oTw3ibpb9vW3pOCNueO35zGP/Z3rlhfPeYCWE8qjO7sDN9Ti2A98vp7znAyWPeC+O3bPxqamzG+LgW6wcfjT9w7/H4L/j1nnjoZG85fT6yv577XNj2MaaH8bpokrOsPDKTmLtfM8ju+4ehLyLSBIzmGbTPo6kq9kWkSSiJiUhhNVH5RB611ImJyGhVzrllSLltcaqZPWNmG5J/p1TFvmlmG83sdTO7NE9XlcREZIA6Frv+kIG3Ld4KLHf3OcDy5GvMbC5wNXB20uYeM4tXZEFJTEQGU6c6sZTbFhcAS5LHS4ArqvY/7O6H3X0TsJEcNahNNSZ2+PLPhPET/8ubqbF5E7eGbeeOeyGMd5fjJd+iaWHWHTolbHuw3B7GNxyJyz/29salBq1Bwc7OI/FUPHduipcHW37e/wzjf7ttsLkBPtQyLv03/d1SXJ7xlQnxkmwQ/8yu/8jzqbHT23eGbZ84MDOMb8uYqmdG294wPrttV2rsT7t+F7Yd9hKL4S9kneHu2wHcfbuZnZjsPwV4sep5W5N9oaZKYiLSHI5hYH+ama2o+nqxuy8e6mEH2ZfZEyUxERkofxLb7e7zj/HVd5jZzOQsbCbQd1q8FZhV9bxTgW1ZL6YxMREZYJhvO1oGLEweLwQer9p/tZl1mNlpwBwgfdrihM7ERKS/Oo6Jpdy2+G1gqZldB7wFXAXg7mvNbCmwDugFbnD3eG52lMRE5CjG4INTQ5Fy2yLAJSnPvwO441iOoSQmIgMVqGJfSUxEBijSbUcjm8QsXpbt/P/+ctj8kq61qbGDHk99klUHllX3E5k0Jl6e63BP/Dbv7Imn2slyZsc7qbErJ64K2z7//fPD+B90/+cw/sYX4mmElh9KL7je1Rt/31dv+kIYX/nWrDB+wexNqbFPdb0dts2qzetq7Q7j0fRIAAfK6b+vL3bH9XMjQklMRArLm2fCwzyUxERkIJ2JiUiRaUxMRIpNSUxEikxnYiJSXE6uCQ+bhZKYiPSjhUICPSd2su3a9DnObp/0D2H7h/ZckBqbNfboedf6+2j77jB+zrjfh/FIV0tcM/TxiXHN0BMHTg3jP3//E2F8Ztv7qbFfHjwjbPvw7f8jjH/9b24O45998j+E8X2z0+cY6O2M/1ImnvNuGP/bc/81jLdb+m1375fiOrCpHQfC+OTWuDYwS1TX2NWSvswdQOvHP5Yas83xvHm5KYmJSJGZFyeLKYmJSH/DP7NrXSmJicgAGhMTkULTbUciUmw6ExORwirYCuBKYiIykJLY4Fp6YPyO9IvtJ/bNC9ufPi59rb7dPfH6ik998Kkwfuq498L4pNb02p2PBfN5AazqnhzGf7rr7DB+8rh4/cUdPZNSY+/2dIZtDwbzWgHcf/ddYfzOHfG6lVdOXZkaO6c9rgN7vxyvY7MuY73O/eWxqbFuj+eX25tRR9YV/D4A9Hj8p9Xq6X8Hk1viGrR9nzohNVbaUfufdNGKXTNXOzKzWWb2nJmtN7O1ZvaNZP9UM3vGzDYk/w59VkERaSpW9lxbM8izZFsvcLO7nwVcANxgZnOBW4Hl7j4HWJ58LSJF58ewNYHMJObu2919ZfJ4P7CeytLiC4AlydOWAFcMUx9FZIQN87qTdXVMF9BmNhs4F3gJmOHu26GS6MzsxJQ2i4BFAO2duuIUKYQmOcvKI/cK4GY2AXgEuMnd45HmKu6+2N3nu/v8MR3xILOINAfzfFszyJXEzKyNSgJ70N0fTXbvMLOZSXwmsHN4uigiI8oB93xbE8i8nDQzA+4H1rt79efty4CFVJYkXwg8nvVarUfKdG05nBove7zu8M92p09JM2Ps/rDtvK4tYfz1g/HH9asPnZwaWznmI2Hbca09YXxSezyVT+eY9PcMYFpb+vd+Wkf8/5ZouhqAl7vj7+0/Tv95GH+rN30I4V8OnBm2XXcw/T0HmJKxVN7qfentD/a2h20Pl+I/je7euGRnUkf8M/3M1PSpn15nZth21znB9Ea/Cpvm1izjXXnkGRO7CLgWWG1mq5J9t1FJXkvN7DrgLeCqYemhiIyootWJZSYxd3+Byvc1mEvq2x0RabgmulTMQ7cdicgAo+pMTESOQ0piIlJkOhMTkeJyoFScLKYkJiID6EwszQeHaPnFq6nhf376orD5f13wz6mxX2Qsa/bEO3Fdz74j8ZQ008enL+E1MajTApjaFi//NSmj3mmsxUu+vdebfifE4ZZ4yplS6gfPFe8cTp/mB+BX5TlhvKfcmho7HMQgu75uz5FpYfzkcXtTY/t706fpAdi8f2oY3713QhjvHh//ab1QSl9K77KT1oZtx+1M/5m1xL8q+enTSREpsnqeiZnZZmA/UAJ63X2+mU0F/jcwG9gMfM3d40n9UuS+d1JEjhPDMxXP5919nrvPT76u21ReSmIi0o8BVvJcWw3qNpWXkpiIDGDuuTZgmpmtqNoWDfJyDjxtZq9UxftN5QUMOpVXHhoTE5H+ju1ScXfVJWKai9x9WzLn4DNm9n9r6d7RdCYmIkfJOQ1Pzk8w3X1b8u9O4DHgPOo4lZeSmIgMUK9JEc2s08y6+h4DXwTW8OFUXpBzKq80TXU5efot/xbG73ntq+lt/9PrYdvLT1oTxlfui+fNeiuoG/ptMNcYQFtLPDnT+LYjYXxsRr1Ue2v6nGAtGdcF5Yw6sc7WuG9Zc51N7UivketqjefcaqlxUqvW4Hv/zd7ZYdsZ4+Pav49N3B3Gez0+P/jspDdSYw9sujBsO+Mffp0a2+xxTWJu9asTmwE8VpmWkDHAQ+7+UzN7mTpN5dVUSUxEmoBT6yePH76U+5vAOYPsf5c6TeWlJCYiAxWnYF9JTEQGMt12JCKFpiQmIoXlwChbKEREjiOG63JSRAquXJxTsZFPYi3BHFLleA3ESQ++mBp798H4sD/5yqVh/PzbXg7jX57929TYJ9p3hG3bMs7Nx2bUQ3W2xLVc3cH/NbOqmV84NCuMlzJe4WfvnRXG3+8ZlxrbcXBi2LYtqH/LI1rH9FBvPM/a3kPxfGOtLfGZSvfP47nONq1Ln/9u0pPx7+Kw0+WkiBSdLidFpNiUxESkuLR4rogUmVY7EpGi05iYiBSbkpiIFJYD5VGUxMxsFvAj4CQq1SOL3f17ZnY78FfAruSpt7n7k5lHzKgFGy6dj7wUxtc8Erdfw2mpMfvMn4RtD52UXisF0PFuPCfX/o/G7Se+kT6HVMvheCHC8m/Xh/FsH9TQdl8YjWdRq017Rnx6zUf4Xc2v0Dijb2C/F7jZ3VcmMzS+YmbPJLG73f27w9c9EWmI0ZTEkpVI+lYl2W9m64FThrtjItIgDpSKU7J/THPsm9ls4Fyg79rsRjN7zcweMLMpKW0W9S3n1EN82SQizcDBy/m2JpA7iZnZBOAR4CZ33wfcC5wBzKNypnbnYO3cfbG7z3f3+W101N5jERl+dVztaLjl+nTSzNqoJLAH3f1RAHffURW/D3hiWHooIiOrYJ9OZp6JWWWZkvuB9e5+V9X+mVVPu5LKMkwiMhqMsjOxi4BrgdVmtirZdxtwjZnNo5K3NwPXD0P/CsFfXh3G40ldsk1MX6ErU3OMWkjhNEmCyiPPp5MvwKCLE2bXhIlI8bhDqTH1nEOhin0RGWg0nYmJyHFISUxEissL9emkkpiI9OfgTVLImoeSmIgMVKDbjpTERKQ/dy3ZJiIFp4F9ESky15mYiBRX89xSlIeSmIj0V7AbwJXERKQfB7xAtx0d06SIInIc8PpOimhml5nZ62a20cxurXd3dSYmIgN4nS4nzawV+Efgj4GtwMtmtszd19XlAOhMTEQGU78zsfOAje7+prsfAR4GFtSzqyN6Jraf93Y/6z/5fdWuacDukezDMWjWvjVrv0B9G6p69u2jtb7Aft576ln/ybScTx9rZiuqvl7s7ourvj4F2FL19Vbg/Fr7WG1Ek5i791vOz8xWuPv8kexDXs3at2btF6hvQ9VsfXP3y+r4coPNRVjXjz51OSkiw2krMKvq61OBbfU8gJKYiAynl4E5ZnaambUDVwPL6nmARn86uTj7KQ3TrH1r1n6B+jZUzdy3mrh7r5ndCDwFtAIPuPvaeh7DvEC3F4iIHE2XkyJSaEpiIlJoDUliw30bQi3MbLOZrTazVUfVvzSiLw+Y2U4zW1O1b6qZPWNmG5J/pzRR3243s7eT926VmX2pQX2bZWbPmdl6M1trZt9I9jf0vQv61RTvW1GN+JhYchvC76i6DQG4pp63IdTCzDYD89294YWRZvY54APgR+7+yWTfd4A97v7t5H8AU9z9libp2+3AB+7+3ZHuz1F9mwnMdPeVZtYFvAJcAXydBr53Qb++RhO8b0XViDOxYb8NYbRw9+eBPUftXgAsSR4vofJHMOJS+tYU3H27u69MHu8H1lOpHG/oexf0S2rQiCQ22G0IzfSDdOBpM3vFzBY1ujODmOHu26HyRwGc2OD+HO1GM3studxsyKVuNTObDZwLvEQTvXdH9Qua7H0rkkYksWG/DaFGF7n7p4HLgRuSyybJ517gDGAesB24s5GdMbMJwCPATe6+r5F9qTZIv5rqfSuaRiSxYb8NoRbuvi35dyfwGJXL32ayIxlb6Rtj2dng/vx/7r7D3UteWbTwPhr43plZG5VE8aC7P5rsbvh7N1i/mul9K6JGJLFhvw1hqMysMxlwxcw6gS8Ca+JWI24ZsDB5vBB4vIF96acvQSSupEHvnZkZcD+w3t3vqgo19L1L61ezvG9F1ZCK/eQj5L/nw9sQ7hjxTgzCzE6ncvYFlVuyHmpk38zsx8DFVKZq2QF8C/g/wFLgI8BbwFXuPuID7Cl9u5jKJZEDm4Hr+8agRrhvfwD8ElgN9E16dRuV8aeGvXdBv66hCd63otJtRyJSaKrYF5FCUxITkUJTEhORQlMSE5FCUxITkUJTEhORQlMSE5FC+39h7iNBKqtK7gAAAABJRU5ErkJggg==\n",
      "text/plain": [
       "<Figure size 432x288 with 2 Axes>"
      ]
     },
     "metadata": {
      "needs_background": "light"
     },
     "output_type": "display_data"
    },
    {
     "data": {
      "text/plain": [
       "Text(0.5, 0, 'Ankle boot')"
      ]
     },
     "execution_count": 11,
     "metadata": {},
     "output_type": "execute_result"
    },
    {
     "data": {
      "image/png": "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\n",
      "text/plain": [
       "<Figure size 432x288 with 1 Axes>"
      ]
     },
     "metadata": {
      "needs_background": "light"
     },
     "output_type": "display_data"
    }
   ],
   "source": [
    "plt.figure()\n",
    "\n",
    "plt.imshow(train_images[0])\n",
    "plt.colorbar()\n",
    "plt.grid(False)\n",
    "plt.show()\n",
    "plt.title(\"Fashion MNIST data\")\n",
    "plt.xlabel(class_names[train_labels[0]])"
   ]
  },
  {
   "cell_type": "markdown",
   "id": "e1812839",
   "metadata": {},
   "source": [
    "**As value in the array is in the range of 0 to 255(RGB color coded value)of each pixel of total 28x28. It is better to scaled and preprocessed both the datasets(train and test) sets.**"
   ]
  },
  {
   "cell_type": "code",
   "execution_count": 12,
   "id": "89e18605",
   "metadata": {},
   "outputs": [],
   "source": [
    "train_images = train_images/255.0\n",
    "\n",
    "test_images = test_images/255.0"
   ]
  },
  {
   "cell_type": "code",
   "execution_count": 15,
   "id": "f4f44a70",
   "metadata": {},
   "outputs": [
    {
     "data": {
      "image/png": "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\n",
      "text/plain": [
       "<Figure size 720x720 with 25 Axes>"
      ]
     },
     "metadata": {},
     "output_type": "display_data"
    }
   ],
   "source": [
    "## Display of data checking\n",
    "plt.figure(figsize=(10, 10))\n",
    "\n",
    "for i in range(25):\n",
    "    plt.subplot(5, 5, i+1)\n",
    "    plt.xticks([])\n",
    "    plt.yticks([])\n",
    "    plt.grid(False)\n",
    "    \n",
    "    plt.imshow(train_images[i], cmap=plt.cm.binary)\n",
    "    plt.xlabel(class_names[train_labels[i]])\n",
    "    \n",
    "plt.show()"
   ]
  },
  {
   "cell_type": "markdown",
   "id": "0dc42afb",
   "metadata": {},
   "source": [
    "## Building the Model\n",
    "\n",
    "* Building the neural network requires the sequencing or setup of layers and compiling of the models.\n",
    "\n",
    "##### Set up of layers\n",
    "\n",
    "Most of the model have simple layers patterns, which can be modelled with `tf.keras.layers.Dense` and the parameters are learned during the training."
   ]
  },
  {
   "cell_type": "code",
   "execution_count": 16,
   "id": "1d9d00df",
   "metadata": {},
   "outputs": [],
   "source": [
    "model = tf.keras.Sequential([\n",
    "    tf.keras.layers.Flatten(input_shape=(28, 28)),\n",
    "    tf.keras.layers.Dense(128, activation='relu'),\n",
    "    tf.keras.layers.Dense(10)\n",
    "])"
   ]
  },
  {
   "cell_type": "markdown",
   "id": "bd459cea",
   "metadata": {},
   "source": [
    "**Explanation** - The first layer in the model is `tf.keras.layers.Flatten`, which converts the given input data from n-dimension arrays to one(1)-dimensions arrays. It just perform unstacking of data and then lining them up, it has no parameters to learn, it just reformats the data.\n",
    "\n",
    "After the pixel are flattened, the network consists sequence of two layers `tf.keras.layers.Dense` layers. These layers are densely connected, or fully connected, neural layers. first layers has 128 nodes(or 128 neurons) and others layer have 10 nodes. Each node indicate the current images belong to one of the 10 classes.\n",
    "\n",
    "##### Compiling the model\n",
    "\n",
    "Before the model is ready for training compiling of model is required which performs or have few steps:\n",
    "\n",
    "   * **Loss Function** - Measures the how accurate our model is during training. we should minimize this function to \"predict\" the outcome in right orders and direction.\n",
    "   \n",
    "   * **Optimizer** - It updates the model based on how it sees data and its loss function.\n",
    "   \n",
    "   * **Metrics** - Used to moniter the training and testing steps of the model's accuracy."
   ]
  },
  {
   "cell_type": "code",
   "execution_count": 17,
   "id": "332c08ae",
   "metadata": {},
   "outputs": [],
   "source": [
    "model.compile(\n",
    "    loss=tf.keras.losses.SparseCategoricalCrossentropy(from_logits=True),\n",
    "    optimizer='adam',\n",
    "    metrics=['accuracy']\n",
    ")"
   ]
  },
  {
   "cell_type": "markdown",
   "id": "d42d1d4d",
   "metadata": {},
   "source": [
    "## Train the model\n",
    "\n",
    "Training a neural networks model requires following steps:\n",
    "\n",
    "   1. **`Feeding the model`** Feeding  the data to the model(i.e, train_images as features and train_labels as targets). \n",
    "   \n",
    "   2. **`Training or Fitting the models`** Models learns patterns patterns, shapes, associate etc. from the given numericals data(features and targets).\n",
    "   \n",
    "   3. **`Predicting the models`** models is used to predict the test datasets.\n",
    "   \n",
    "   4. **`Evaluating the models`** models is evaluated based on his prediction on unseen data or test data."
   ]
  },
  {
   "cell_type": "code",
   "execution_count": 18,
   "id": "4000a22f",
   "metadata": {},
   "outputs": [
    {
     "name": "stdout",
     "output_type": "stream",
     "text": [
      "Epoch 1/10\n",
      "1875/1875 [==============================] - 15s 7ms/step - loss: 0.4988 - accuracy: 0.8253\n",
      "Epoch 2/10\n",
      "1875/1875 [==============================] - 11s 6ms/step - loss: 0.3777 - accuracy: 0.8629\n",
      "Epoch 3/10\n",
      "1875/1875 [==============================] - 11s 6ms/step - loss: 0.3391 - accuracy: 0.8762\n",
      "Epoch 4/10\n",
      "1875/1875 [==============================] - 11s 6ms/step - loss: 0.3136 - accuracy: 0.8848\n",
      "Epoch 5/10\n",
      "1875/1875 [==============================] - 11s 6ms/step - loss: 0.2964 - accuracy: 0.8907\n",
      "Epoch 6/10\n",
      "1875/1875 [==============================] - 13s 7ms/step - loss: 0.2813 - accuracy: 0.8959\n",
      "Epoch 7/10\n",
      "1875/1875 [==============================] - 12s 7ms/step - loss: 0.2700 - accuracy: 0.8989 0s - loss:\n",
      "Epoch 8/10\n",
      "1875/1875 [==============================] - 11s 6ms/step - loss: 0.2608 - accuracy: 0.9030\n",
      "Epoch 9/10\n",
      "1875/1875 [==============================] - 11s 6ms/step - loss: 0.2505 - accuracy: 0.9065 0s - loss: 0.250\n",
      "Epoch 10/10\n",
      "1875/1875 [==============================] - 11s 6ms/step - loss: 0.2403 - accuracy: 0.9105\n"
     ]
    },
    {
     "data": {
      "text/plain": [
       "<keras.callbacks.History at 0x28c9c65e580>"
      ]
     },
     "execution_count": 18,
     "metadata": {},
     "output_type": "execute_result"
    }
   ],
   "source": [
    "## Feed the model using \"model.fit\"\n",
    "\n",
    "model.fit(train_images, train_labels, epochs=10)"
   ]
  },
  {
   "cell_type": "markdown",
   "id": "efdc49c8",
   "metadata": {},
   "source": [
    "**Observation** - As the models trains, loss value decreases and accuracy of the model increases on datasets (91% accuracy on train data).\n",
    "\n"
   ]
  },
  {
   "cell_type": "code",
   "execution_count": 19,
   "id": "b5bf949c",
   "metadata": {},
   "outputs": [
    {
     "name": "stdout",
     "output_type": "stream",
     "text": [
      "313/313 - 1s - loss: 0.3393 - accuracy: 0.8783 - 1s/epoch - 5ms/step\n",
      "\n",
      "Test Accuracy: 0.8783000111579895 \n",
      " Test loss value: 0.3393077254295349\n"
     ]
    }
   ],
   "source": [
    "## Evaluate accuracy on test datasets\n",
    "test_loss, test_acc = model.evaluate(test_images, test_labels, verbose=2)\n",
    "\n",
    "print(f\"\\nTest Accuracy: {test_acc} \\n Test loss value: {test_loss}\")"
   ]
  },
  {
   "cell_type": "markdown",
   "id": "28c4f4c8",
   "metadata": {},
   "source": [
    "### Make predictions\n",
    "\n",
    "With the models trained, it can be used to predicts some images. The model's linear outputs, logits. Attcah a softmax layer to convert the logits to probabilities, which are easier to interpret."
   ]
  },
  {
   "cell_type": "code",
   "execution_count": 20,
   "id": "9220a550",
   "metadata": {},
   "outputs": [],
   "source": [
    "probability_model = tf.keras.Sequential([\n",
    "    model,\n",
    "    tf.keras.layers.Softmax()\n",
    "])"
   ]
  },
  {
   "cell_type": "code",
   "execution_count": 21,
   "id": "bd87b013",
   "metadata": {},
   "outputs": [],
   "source": [
    "predictions = probability_model.predict(test_images)"
   ]
  },
  {
   "cell_type": "code",
   "execution_count": 22,
   "id": "d9780c6c",
   "metadata": {},
   "outputs": [
    {
     "data": {
      "text/plain": [
       "array([3.7505597e-08, 1.6254093e-08, 8.0303565e-08, 5.1908189e-10,\n",
       "       1.5677996e-07, 1.1655155e-03, 5.0827893e-08, 1.2820446e-02,\n",
       "       1.3656451e-05, 9.8600000e-01], dtype=float32)"
      ]
     },
     "execution_count": 22,
     "metadata": {},
     "output_type": "execute_result"
    }
   ],
   "source": [
    "predictions[0]"
   ]
  },
  {
   "cell_type": "markdown",
   "id": "374378be",
   "metadata": {},
   "source": [
    "A prediction is an array of 10 numbers. They represent the model's \"confidence\" that the image corresponds to each of the 10 different articles of clothing.\n",
    "\n",
    "Columns/items with max confidence"
   ]
  },
  {
   "cell_type": "code",
   "execution_count": 23,
   "id": "8b5ab8ef",
   "metadata": {},
   "outputs": [
    {
     "data": {
      "text/plain": [
       "9"
      ]
     },
     "metadata": {},
     "output_type": "display_data"
    },
    {
     "data": {
      "text/plain": [
       "' === '"
      ]
     },
     "metadata": {},
     "output_type": "display_data"
    },
    {
     "data": {
      "text/plain": [
       "'Ankle boot'"
      ]
     },
     "metadata": {},
     "output_type": "display_data"
    }
   ],
   "source": [
    "col = np.argmax(predictions[0])\n",
    "\n",
    "display(col, ' === ', class_names[col])"
   ]
  },
  {
   "cell_type": "markdown",
   "id": "733c2829",
   "metadata": {},
   "source": [
    "So, the models is confident on images is \"Ankle boot\" or class_names[9], lets check it in test_labels"
   ]
  },
  {
   "cell_type": "code",
   "execution_count": 26,
   "id": "f16e587c",
   "metadata": {},
   "outputs": [
    {
     "data": {
      "text/plain": [
       "'Ankle boot'"
      ]
     },
     "execution_count": 26,
     "metadata": {},
     "output_type": "execute_result"
    }
   ],
   "source": [
    "class_names[test_labels[0]]"
   ]
  },
  {
   "cell_type": "markdown",
   "id": "53d95828",
   "metadata": {},
   "source": [
    "We will plot graph to look at prediction."
   ]
  },
  {
   "cell_type": "code",
   "execution_count": 27,
   "id": "68f8801a",
   "metadata": {},
   "outputs": [],
   "source": [
    "def plot_img(i, preds_array, true_labels, img):\n",
    "    true_labels, img = true_labels[i], img[i]\n",
    "    plt.grid(False)\n",
    "    plt.xticks([])\n",
    "    plt.yticks([])\n",
    "    \n",
    "    plt.imshow(img, cmap=plt.cm.binary)\n",
    "    \n",
    "    predicted_label = np.argmax(preds_array)\n",
    "    if predicted_label == true_labels:\n",
    "        color = 'blue'\n",
    "    else:\n",
    "        color = 'red'\n",
    "        \n",
    "    plt.xlabel(\"{} {:2.0f}% ({})\".format(class_names[predicted_label],\n",
    "                                        100*np.max(preds_array),\n",
    "                                        class_names[true_labels]),\n",
    "              color=color)\n",
    "    \n",
    "\n",
    "def plot_value_array(i, preds_array, true_labels):\n",
    "    true_labels = true_labels[i]\n",
    "    plt.grid(False)\n",
    "    plt.xticks(range(10))\n",
    "    plt.yticks([])\n",
    "    thisplot = plt.bar(range(10), preds_array, color=\"#777777\")\n",
    "    plt.ylim([0, 1])\n",
    "    predicted_label = np.argmax(preds_array)\n",
    "    \n",
    "    thisplot[predicted_label].set_color('red')\n",
    "    thisplot[true_labels].set_color('blue')"
   ]
  },
  {
   "cell_type": "markdown",
   "id": "10e123ad",
   "metadata": {},
   "source": [
    "###### Verify Predictions"
   ]
  },
  {
   "cell_type": "code",
   "execution_count": 29,
   "id": "5995a906",
   "metadata": {},
   "outputs": [],
   "source": [
    "def img(i):\n",
    "    plt.figure(figsize=(6, 3))\n",
    "    plt.subplot(1, 2, 1)\n",
    "    plot_img(i, predictions[i], test_labels, test_images)\n",
    "    plt.subplot(1, 2, 2)\n",
    "    plot_value_array(i, predictions[i], test_labels)\n",
    "    plt.show()"
   ]
  },
  {
   "cell_type": "code",
   "execution_count": 30,
   "id": "81496b4d",
   "metadata": {},
   "outputs": [
    {
     "data": {
      "image/png": "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\n",
      "text/plain": [
       "<Figure size 432x216 with 2 Axes>"
      ]
     },
     "metadata": {
      "needs_background": "light"
     },
     "output_type": "display_data"
    }
   ],
   "source": [
    "i = 0\n",
    "img(i)"
   ]
  },
  {
   "cell_type": "code",
   "execution_count": 31,
   "id": "9de34a4d",
   "metadata": {},
   "outputs": [
    {
     "data": {
      "image/png": "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\n",
      "text/plain": [
       "<Figure size 432x216 with 2 Axes>"
      ]
     },
     "metadata": {
      "needs_background": "light"
     },
     "output_type": "display_data"
    }
   ],
   "source": [
    "i = 12\n",
    "img(i)"
   ]
  },
  {
   "cell_type": "code",
   "execution_count": 32,
   "id": "3aba549e",
   "metadata": {},
   "outputs": [
    {
     "data": {
      "image/png": "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\n",
      "text/plain": [
       "<Figure size 864x720 with 30 Axes>"
      ]
     },
     "metadata": {
      "needs_background": "light"
     },
     "output_type": "display_data"
    }
   ],
   "source": [
    "## Plot the first X test images, their predicted labels, and the true labels.\n",
    "## Color correct predictions in blue and incorrect predictions in red.\n",
    "\n",
    "num_rows = 5\n",
    "num_cols = 3\n",
    "num_images = num_cols * num_rows\n",
    "plt.figure(figsize=(2*2*num_cols, 2*num_rows))\n",
    "for i in range(num_images):\n",
    "    plt.subplot(num_rows, 2*num_cols, 2*i+1)\n",
    "    plot_img(i, predictions[i], test_labels, test_images)\n",
    "    plt.subplot(num_rows, 2*num_cols, 2*i+2)\n",
    "    plot_value_array(i, predictions[i], test_labels)\n",
    "plt.tight_layout()\n",
    "plt.show()"
   ]
  },
  {
   "cell_type": "markdown",
   "id": "2caa1fc7",
   "metadata": {},
   "source": [
    "### Use the trained model"
   ]
  },
  {
   "cell_type": "code",
   "execution_count": 33,
   "id": "a85c6bb0",
   "metadata": {},
   "outputs": [
    {
     "name": "stdout",
     "output_type": "stream",
     "text": [
      "(28, 28)\n"
     ]
    }
   ],
   "source": [
    "# Grab an image from the dataset\n",
    "\n",
    "img = test_images[1]\n",
    "\n",
    "print(img.shape)"
   ]
  },
  {
   "cell_type": "code",
   "execution_count": 34,
   "id": "9fb54430",
   "metadata": {},
   "outputs": [
    {
     "name": "stdout",
     "output_type": "stream",
     "text": [
      "(1, 28, 28)\n"
     ]
    }
   ],
   "source": [
    "# Add the image to a batch where it's the only member.\n",
    "img = (np.expand_dims(img, 0))\n",
    "\n",
    "print(img.shape)"
   ]
  },
  {
   "cell_type": "code",
   "execution_count": 35,
   "id": "b8af2f0c",
   "metadata": {},
   "outputs": [
    {
     "name": "stdout",
     "output_type": "stream",
     "text": [
      "[[9.6774338e-06 4.8474213e-13 9.9750501e-01 6.0078453e-12 1.7427566e-03\n",
      "  9.9413547e-16 7.4266252e-04 3.1339616e-12 2.1699396e-10 3.6639462e-11]]\n"
     ]
    }
   ],
   "source": [
    "predictions_single = probability_model.predict(img)\n",
    "\n",
    "print(predictions_single)"
   ]
  },
  {
   "cell_type": "code",
   "execution_count": 36,
   "id": "7d1613f8",
   "metadata": {},
   "outputs": [
    {
     "data": {
      "image/png": "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\n",
      "text/plain": [
       "<Figure size 432x288 with 1 Axes>"
      ]
     },
     "metadata": {
      "needs_background": "light"
     },
     "output_type": "display_data"
    }
   ],
   "source": [
    "plot_value_array(1, predictions_single[0], test_labels)\n",
    "_ = plt.xticks(range(10), class_names, rotation=45)\n",
    "plt.show()"
   ]
  },
  {
   "cell_type": "code",
   "execution_count": 38,
   "id": "e474a85c",
   "metadata": {},
   "outputs": [
    {
     "data": {
      "text/plain": [
       "2"
      ]
     },
     "execution_count": 38,
     "metadata": {},
     "output_type": "execute_result"
    }
   ],
   "source": [
    "ans = np.argmax(predictions_single[0])\n",
    "ans"
   ]
  },
  {
   "cell_type": "code",
   "execution_count": 39,
   "id": "3a4ce683",
   "metadata": {},
   "outputs": [
    {
     "data": {
      "text/plain": [
       "'Pullover'"
      ]
     },
     "execution_count": 39,
     "metadata": {},
     "output_type": "execute_result"
    }
   ],
   "source": [
    "class_names[2]"
   ]
  },
  {
   "cell_type": "code",
   "execution_count": null,
   "id": "cef3de1d",
   "metadata": {},
   "outputs": [],
   "source": []
  },
  {
   "cell_type": "code",
   "execution_count": null,
   "id": "0cfce63d",
>>>>>>> fe609b1b086d0b3843700d27530af09c22fa665d
   "metadata": {},
   "outputs": [],
   "source": []
  }
 ],
 "metadata": {
  "kernelspec": {
   "display_name": "Python 3 (ipykernel)",
   "language": "python",
   "name": "python3"
  },
  "language_info": {
   "codemirror_mode": {
    "name": "ipython",
    "version": 3
   },
   "file_extension": ".py",
   "mimetype": "text/x-python",
   "name": "python",
   "nbconvert_exporter": "python",
   "pygments_lexer": "ipython3",
   "version": "3.9.7"
  }
 },
 "nbformat": 4,
 "nbformat_minor": 5
}
